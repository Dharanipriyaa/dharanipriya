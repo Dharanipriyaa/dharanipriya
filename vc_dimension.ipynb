{
  "nbformat": 4,
  "nbformat_minor": 0,
  "metadata": {
    "colab": {
      "provenance": [],
      "authorship_tag": "ABX9TyOmKyX9g5eV0sQh1CZhUGsW",
      "include_colab_link": true
    },
    "kernelspec": {
      "name": "python3",
      "display_name": "Python 3"
    },
    "language_info": {
      "name": "python"
    }
  },
  "cells": [
    {
      "cell_type": "markdown",
      "metadata": {
        "id": "view-in-github",
        "colab_type": "text"
      },
      "source": [
        "<a href=\"https://colab.research.google.com/github/Dharanipriyaa/dharanipriya/blob/main/vc_dimension.ipynb\" target=\"_parent\"><img src=\"https://colab.research.google.com/assets/colab-badge.svg\" alt=\"Open In Colab\"/></a>"
      ]
    },
    {
      "cell_type": "code",
      "execution_count": 7,
      "metadata": {
        "id": "KlU-J4-7B3Iq"
      },
      "outputs": [],
      "source": [
        "import numpy as np"
      ]
    },
    {
      "cell_type": "code",
      "source": [
        "def calculate_vc_dimension_intervals():\n",
        "    def can_shatter(points):\n",
        "        sorted_points = sorted(points)\n",
        "        for i in range(len(points) - 1):\n",
        "            if sorted_points[i] < sorted_points[i + 1]:\n",
        "                return False\n",
        "        return True\n",
        "    def vc_dimension_intervals():\n",
        "        max_vc_dimension = 0\n",
        "        points = [0, 1, 2, 3]\n",
        "        for i in range(len(points)):\n",
        "            for j in range(i, len(points)):\n",
        "                if can_shatter(points[i:j+1]):\n",
        "                    max_vc_dimension = max(max_vc_dimension, j - i + 1)\n",
        "        return max_vc_dimension\n",
        "    return vc_dimension_intervals()\n",
        "vc_dimension = calculate_vc_dimension_intervals()\n",
        "print(\"VC Dimension:\", vc_dimension)\n"
      ],
      "metadata": {
        "colab": {
          "base_uri": "https://localhost:8080/"
        },
        "id": "3ASUy6trCQp4",
        "outputId": "22437121-297e-4097-e694-21270d8f0706"
      },
      "execution_count": 10,
      "outputs": [
        {
          "output_type": "stream",
          "name": "stdout",
          "text": [
            "VC Dimension: 1\n"
          ]
        }
      ]
    }
  ]
}